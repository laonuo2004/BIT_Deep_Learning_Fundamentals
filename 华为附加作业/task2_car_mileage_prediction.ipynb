{
 "cells": [
  {
   "cell_type": "markdown",
   "metadata": {},
   "source": [
    "# 实验二：汽车里程数回归预测\n",
    "\n",
    " 本次实验旨在利用前馈神经网络，根据汽车的多种属性，预测其每加仑行驶的英里数（MPG）。\n",
    " 我们将使用MindSpore框架来构建、训练和评估一个回归模型。\n",
    "\n",
    " **我的思考**：\n",
    " 这个任务是一个典型的回归问题。与分类问题不同，我们的目标是预测一个连续值（MPG），而不是一个离散的类别。\n",
    " 因此，模型的输出层不会使用Softmax激活函数，损失函数也应该选用适合回归任务的，比如均方误差（MSE）。"
   ]
  },
  {
   "cell_type": "markdown",
   "metadata": {},
   "source": [
    "## 1. 环境准备与库导入\n",
    "\n",
    " 首先，我们需要导入所有必要的库。\n",
    " - `os`, `csv`, `time`: 用于基本操作。\n",
    " - `numpy`, `pandas`: 用于数据处理和分析。\n",
    " - `matplotlib`: 用于数据可视化。\n",
    " - `mindspore`: 核心的深度学习框架。\n",
    "\n",
    " 同时，我们需要根据实验要求设置MindSpore的运行环境。"
   ]
  },
  {
   "cell_type": "code",
   "execution_count": 1,
   "metadata": {
    "collapsed": false,
    "jupyter": {
     "outputs_hidden": false
    },
    "tags": [
     "command"
    ]
   },
   "outputs": [
    {
     "name": "stdout",
     "output_type": "stream",
     "text": [
      "Looking in indexes: http://repo.myhuaweicloud.com/repository/pypi/simple\n",
      "Requirement already satisfied: pandas in /home/ma-user/anaconda3/envs/MindSpore/lib/python3.7/site-packages (1.1.3)\n",
      "Requirement already satisfied: matplotlib in /home/ma-user/anaconda3/envs/MindSpore/lib/python3.7/site-packages (3.1.2)\n",
      "Requirement already satisfied: numpy>=1.15.4 in /home/ma-user/anaconda3/envs/MindSpore/lib/python3.7/site-packages (from pandas) (1.17.5)\n",
      "Requirement already satisfied: pytz>=2017.2 in /home/ma-user/anaconda3/envs/MindSpore/lib/python3.7/site-packages (from pandas) (2021.3)\n",
      "Requirement already satisfied: python-dateutil>=2.7.3 in /home/ma-user/anaconda3/envs/MindSpore/lib/python3.7/site-packages (from pandas) (2.8.2)\n",
      "Requirement already satisfied: cycler>=0.10 in /home/ma-user/anaconda3/envs/MindSpore/lib/python3.7/site-packages (from matplotlib) (0.11.0)\n",
      "Requirement already satisfied: pyparsing!=2.0.4,!=2.1.2,!=2.1.6,>=2.0.1 in /home/ma-user/anaconda3/envs/MindSpore/lib/python3.7/site-packages (from matplotlib) (3.0.6)\n",
      "Requirement already satisfied: kiwisolver>=1.0.1 in /home/ma-user/anaconda3/envs/MindSpore/lib/python3.7/site-packages (from matplotlib) (1.1.0)\n",
      "Requirement already satisfied: setuptools in /home/ma-user/anaconda3/envs/MindSpore/lib/python3.7/site-packages (from kiwisolver>=1.0.1->matplotlib) (58.0.4)\n",
      "Requirement already satisfied: six>=1.5 in /home/ma-user/anaconda3/envs/MindSpore/lib/python3.7/site-packages (from python-dateutil>=2.7.3->pandas) (1.16.0)\n"
     ]
    }
   ],
   "source": [
    "!pip install pandas matplotlib"
   ]
  },
  {
   "cell_type": "code",
   "execution_count": 2,
   "metadata": {},
   "outputs": [],
   "source": [
    "import os\n",
    "import csv\n",
    "import time\n",
    "import numpy as np\n",
    "import pandas as pd\n",
    "from matplotlib import pyplot as plt\n",
    "\n",
    "import mindspore as ms\n",
    "import mindspore.ops as ops\n",
    "import mindspore.dataset as ds\n",
    "import mindspore.context as context\n",
    "import mindspore.dataset.transforms.c_transforms as C\n",
    "import mindspore.dataset.vision.c_transforms as CV\n",
    "from mindspore import nn, Tensor\n",
    "from mindspore.train import Model\n",
    "from mindspore.nn.metrics import Accuracy, MAE, MSE\n",
    "from mindspore.train.serialization import load_checkpoint, load_param_into_net\n",
    "from mindspore.train.callback import ModelCheckpoint, CheckpointConfig, LossMonitor, TimeMonitor"
   ]
  },
  {
   "cell_type": "markdown",
   "metadata": {},
   "source": [
    "设置MindSpore的执行模式为图模式，并指定使用Ascend硬件。"
   ]
  },
  {
   "cell_type": "code",
   "execution_count": 3,
   "metadata": {},
   "outputs": [],
   "source": [
    "context.set_context(mode=context.GRAPH_MODE, device_target='Ascend')#| ## 2. 数据加载与预处理"
   ]
  },
  {
   "cell_type": "markdown",
   "metadata": {},
   "source": [
    "接下来，我们加载 `auto-mpg.data` 数据集。这个数据集记录了不同汽车的多种属性以及它们的MPG。\n",
    "\n",
    " **我的思考**：\n",
    " 数据预处理是机器学习项目中至关重要的一步。原始数据往往是不规整的，可能包含缺失值、非数值特征等。\n",
    " - **缺失值处理**: 我注意到数据中的马力（Horsepower）列有 `?` 作为缺失值。Pandas在读取时可以方便地将它们识别为NaN，然后我可以直接删除这些行，因为缺失的数据量不大。\n",
    " - **特征编码**: 'Origin' (产地) 是一个分类特征（1: USA, 2: Europe, 3: Japan）。神经网络需要数值输入，所以需要将其转换为one-hot编码。这样模型就不会错误地认为产地之间存在序数关系（比如Japan > Europe）。\n",
    " - **数据归一化**: 不同特征的数值范围差异很大（例如，`Weight` 和 `Cylinders`）。如果不进行归一化，范围较大的特征可能会在模型训练中占据主导地位，导致收敛缓慢或结果不佳。我将使用标准差归一化（Z-score normalization）。"
   ]
  },
  {
   "cell_type": "markdown",
   "metadata": {},
   "source": [
    "### 2.1 加载数据\n",
    " 我们使用 `pandas` 直接从URL读取数据，并指定列名和处理方式。"
   ]
  },
  {
   "cell_type": "code",
   "execution_count": 4,
   "metadata": {},
   "outputs": [
    {
     "name": "stdout",
     "output_type": "stream",
     "text": [
      "原始数据集（前5行）:\n",
      "    MPG  Cylinders  Displacement  Horsepower  Weight  Acceleration  \\\n",
      "0  18.0          8         307.0       130.0  3504.0          12.0   \n",
      "1  15.0          8         350.0       165.0  3693.0          11.5   \n",
      "2  18.0          8         318.0       150.0  3436.0          11.0   \n",
      "3  16.0          8         304.0       150.0  3433.0          12.0   \n",
      "4  17.0          8         302.0       140.0  3449.0          10.5   \n",
      "\n",
      "   Model Year  Origin  \n",
      "0          70       1  \n",
      "1          70       1  \n",
      "2          70       1  \n",
      "3          70       1  \n",
      "4          70       1  \n"
     ]
    }
   ],
   "source": [
    "url = 'https://ascend-professional-construction-dataset.obs.cn-north-4.myhuaweicloud.com/deep-learning/auto-mpg.data'\n",
    "\n",
    "column_names = ['MPG','Cylinders','Displacement','Horsepower','Weight',\n",
    "                'Acceleration', 'Model Year', 'Origin']\n",
    "\n",
    "raw_dataset = pd.read_csv(url, names=column_names,\n",
    "                      na_values = \"?\", comment='\\t',\n",
    "                      sep=\" \", skipinitialspace=True)\n",
    "\n",
    "dataset = raw_dataset.copy()\n",
    "print(\"原始数据集（前5行）:\")\n",
    "print(dataset.head())"
   ]
  },
  {
   "cell_type": "markdown",
   "metadata": {},
   "source": [
    "### 2.2 清理数据（处理缺失值）"
   ]
  },
  {
   "cell_type": "code",
   "execution_count": 5,
   "metadata": {},
   "outputs": [
    {
     "name": "stdout",
     "output_type": "stream",
     "text": [
      "\n",
      "缺失值统计:\n",
      "MPG             0\n",
      "Cylinders       0\n",
      "Displacement    0\n",
      "Horsepower      6\n",
      "Weight          0\n",
      "Acceleration    0\n",
      "Model Year      0\n",
      "Origin          0\n",
      "dtype: int64\n"
     ]
    }
   ],
   "source": [
    "print(\"\\n缺失值统计:\")\n",
    "print(dataset.isna().sum())\n",
    "\n",
    "dataset = dataset.dropna()"
   ]
  },
  {
   "cell_type": "markdown",
   "metadata": {},
   "source": [
    "### 2.3 特征工程（One-Hot编码）"
   ]
  },
  {
   "cell_type": "code",
   "execution_count": 6,
   "metadata": {},
   "outputs": [
    {
     "name": "stdout",
     "output_type": "stream",
     "text": [
      "\n",
      "进行One-Hot编码后（后5行）:\n",
      "      MPG  Cylinders  Displacement  Horsepower  Weight  Acceleration  \\\n",
      "393  27.0          4         140.0        86.0  2790.0          15.6   \n",
      "394  44.0          4          97.0        52.0  2130.0          24.6   \n",
      "395  32.0          4         135.0        84.0  2295.0          11.6   \n",
      "396  28.0          4         120.0        79.0  2625.0          18.6   \n",
      "397  31.0          4         119.0        82.0  2720.0          19.4   \n",
      "\n",
      "     Model Year  USA  Europe  Japan  \n",
      "393          82  1.0     0.0    0.0  \n",
      "394          82  0.0     1.0    0.0  \n",
      "395          82  1.0     0.0    0.0  \n",
      "396          82  1.0     0.0    0.0  \n",
      "397          82  1.0     0.0    0.0  \n"
     ]
    }
   ],
   "source": [
    "origin = dataset.pop('Origin')\n",
    "dataset['USA'] = (origin == 1)*1.0\n",
    "dataset['Europe'] = (origin == 2)*1.0\n",
    "dataset['Japan'] = (origin == 3)*1.0\n",
    "print(\"\\n进行One-Hot编码后（后5行）:\")\n",
    "print(dataset.tail())"
   ]
  },
  {
   "cell_type": "markdown",
   "metadata": {},
   "source": [
    "### 2.4 划分训练集和测试集"
   ]
  },
  {
   "cell_type": "code",
   "execution_count": 7,
   "metadata": {},
   "outputs": [],
   "source": [
    "train_dataset = dataset.sample(frac=0.8,random_state=0)\n",
    "test_dataset = dataset.drop(train_dataset.index)"
   ]
  },
  {
   "cell_type": "markdown",
   "metadata": {},
   "source": [
    "### 2.5 数据归一化"
   ]
  },
  {
   "cell_type": "code",
   "execution_count": 8,
   "metadata": {},
   "outputs": [
    {
     "name": "stdout",
     "output_type": "stream",
     "text": [
      "\n",
      "归一化后的训练数据（前5行）:\n",
      "     Cylinders  Displacement  Horsepower    Weight  Acceleration  Model Year  \\\n",
      "146  -0.869348     -1.009459   -0.784052 -1.025303     -0.379759   -0.516397   \n",
      "282  -0.869348     -0.530218   -0.442811 -0.118796      0.624102    0.843910   \n",
      "69    1.483887      1.482595    1.447140  1.736877     -0.738281   -1.060519   \n",
      "378  -0.869348     -0.865687   -1.099044 -1.025303     -0.308055    1.660094   \n",
      "331  -0.869348     -0.942365   -0.994047 -1.001603      0.875068    1.115971   \n",
      "\n",
      "          USA    Europe     Japan  \n",
      "146  0.774676 -0.465148 -0.495225  \n",
      "282  0.774676 -0.465148 -0.495225  \n",
      "69   0.774676 -0.465148 -0.495225  \n",
      "378  0.774676 -0.465148 -0.495225  \n",
      "331 -1.286751 -0.465148  2.012852  \n"
     ]
    }
   ],
   "source": [
    "train_stats = train_dataset.describe()\n",
    "train_stats.pop(\"MPG\")\n",
    "train_stats = train_stats.transpose()\n",
    "\n",
    "train_labels = train_dataset.pop('MPG')\n",
    "test_labels = test_dataset.pop('MPG')\n",
    "\n",
    "def norm(x):\n",
    "  return (x - train_stats['mean']) / train_stats['std']\n",
    "normed_train_data = norm(train_dataset)\n",
    "normed_test_data = norm(test_dataset)\n",
    "\n",
    "print(\"\\n归一化后的训练数据（前5行）:\")\n",
    "print(normed_train_data.head())#| ## 3. 构建神经网络模型"
   ]
  },
  {
   "cell_type": "markdown",
   "metadata": {},
   "source": [
    "我们将构建一个包含两个隐藏层的全连接神经网络。\n",
    "\n",
    " **学生视角思考**:\n",
    " - **网络结构**: 对于这种表格数据回归任务，一个简单的全连接网络通常就足够了。我设计了`9 -> 64 -> 64 -> 1`的结构。输入层有9个神经元，对应9个特征。两个隐藏层各有64个神经元，这提供了一定的模型容量来学习复杂的非线性关系。输出层只有1个神经元，直接输出预测的MPG值。\n",
    " - **激活函数**: 我在隐藏层之间使用了ReLU激活函数，这是深度学习中最常用的激活函数之一，因为它计算简单且能有效避免梯度消失问题。\n",
    " - **输出层**: 输出层没有激活函数，因为我们需要它输出任意范围的连续值，而不是像分类任务那样限制在特定范围内。"
   ]
  },
  {
   "cell_type": "code",
   "execution_count": 9,
   "metadata": {},
   "outputs": [],
   "source": [
    "class RegressionNet(nn.Cell):\n",
    "    def __init__(self):\n",
    "        super(RegressionNet, self).__init__()\n",
    "        self.flatten = nn.Flatten()\n",
    "        self.fc1 = nn.Dense(9, 64, activation='relu')\n",
    "        self.fc2 = nn.Dense(64, 64, activation='relu')\n",
    "        self.fc3 = nn.Dense(64, 1)\n",
    "\n",
    "    def construct(self, x):\n",
    "        x = self.flatten(x)\n",
    "        x = self.fc1(x)\n",
    "        x = self.fc2(x)\n",
    "        x = self.fc3(x)\n",
    "        return x#| ## 4. 模型训练与评估"
   ]
  },
  {
   "cell_type": "markdown",
   "metadata": {},
   "source": [
    "现在我们来定义训练过程。\n",
    "\n",
    " **学生视角思考**:\n",
    " - **损失函数**: 我选择了均方误差（MSE, Mean Square Error）作为损失函数，这是回归问题最常用的损失函数，它衡量了预测值与真实值之间差的平方的均值。\n",
    " - **优化器**: 我使用了RMSProp优化器。它是一种自适应学习率的优化器，通常在处理非平稳目标时表现良好。\n",
    " - **评估指标**: 除了MSE，我还将监控平均绝对误差（MAE, Mean Absolute Error）。MAE直接衡量预测值与真实值之间差的绝对值的均值，它的单位与目标变量相同，因此更易于解释。例如，MAE为3.5意味着模型的预测平均偏离真实MPG值3.5个单位。\n",
    " - **训练循环**: 我将训练100个epoch。在每个epoch结束时，我会在测试集上评估模型，并保存MAE和MSE，以便后续可视化模型的学习过程。"
   ]
  },
  {
   "cell_type": "markdown",
   "metadata": {},
   "source": [
    "### 4.1 定义超参数、模型、损失函数和优化器"
   ]
  },
  {
   "cell_type": "code",
   "execution_count": 10,
   "metadata": {},
   "outputs": [],
   "source": [
    "epochs = 500\n",
    "learning_rate = 0.001\n",
    "\n",
    "network = RegressionNet()\n",
    "loss_fn = nn.MSELoss()\n",
    "optimizer = nn.RMSProp(network.trainable_params(), learning_rate=learning_rate)"
   ]
  },
  {
   "cell_type": "markdown",
   "metadata": {},
   "source": [
    "### 4.3 包装网络并定义梯度计算\n",
    " 为了正确计算梯度，我们必须对一个能够同时计算前向传播和损失的“包装网络”进行微分。\n",
    " `nn.WithLossCell` 正是为此设计的。它将原始网络和损失函数结合在一起。\n",
    " 然后，我们使用 `ops.GradOperation` 来为这个新的“损失网络”创建梯度计算函数。\n",
    " **学生视角思考**: 这是最关键的一步，之前的失败就是因为微分的对象错了。我们必须对“损失”求导，而不是对“网络输出”求导。"
   ]
  },
  {
   "cell_type": "code",
   "execution_count": 11,
   "metadata": {},
   "outputs": [],
   "source": [
    "loss_net = nn.WithLossCell(network, loss_fn)\n",
    "grad_fn = ops.GradOperation(get_by_list=True)"
   ]
  },
  {
   "cell_type": "markdown",
   "metadata": {},
   "source": [
    "### 4.4 训练模型"
   ]
  },
  {
   "cell_type": "code",
   "execution_count": 12,
   "metadata": {},
   "outputs": [
    {
     "name": "stdout",
     "output_type": "stream",
     "text": [
      "Epoch [10/500], Train Loss: 602.0971, Test Loss: 639.9539, Test MAE: 23.9718\n",
      "Epoch [20/500], Train Loss: 601.3142, Test Loss: 639.1225, Test MAE: 23.9545\n",
      "Epoch [30/500], Train Loss: 600.0923, Test Loss: 637.7997, Test MAE: 23.9269\n",
      "Epoch [40/500], Train Loss: 598.1305, Test Loss: 635.6514, Test MAE: 23.8826\n",
      "Epoch [50/500], Train Loss: 593.5189, Test Loss: 630.0861, Test MAE: 23.7756\n",
      "Epoch [60/500], Train Loss: 578.3621, Test Loss: 611.9818, Test MAE: 23.4304\n",
      "Epoch [70/500], Train Loss: 545.4839, Test Loss: 574.4232, Test MAE: 22.6863\n",
      "Epoch [80/500], Train Loss: 494.9334, Test Loss: 517.9473, Test MAE: 21.5062\n",
      "Epoch [90/500], Train Loss: 429.3763, Test Loss: 445.5848, Test MAE: 19.8777\n",
      "Epoch [100/500], Train Loss: 353.4294, Test Loss: 362.4824, Test MAE: 17.7979\n",
      "Epoch [110/500], Train Loss: 273.5691, Test Loss: 275.8182, Test MAE: 15.2880\n",
      "Epoch [120/500], Train Loss: 198.4715, Test Loss: 195.1467, Test MAE: 12.5215\n",
      "Epoch [130/500], Train Loss: 136.3294, Test Loss: 129.5299, Test MAE: 9.7366\n",
      "Epoch [140/500], Train Loss: 91.9707, Test Loss: 83.9725, Test MAE: 7.2830\n",
      "Epoch [150/500], Train Loss: 63.9282, Test Loss: 56.1059, Test MAE: 5.8110\n",
      "Epoch [160/500], Train Loss: 46.2074, Test Loss: 38.9986, Test MAE: 4.8868\n",
      "Epoch [170/500], Train Loss: 34.9666, Test Loss: 28.4985, Test MAE: 4.3475\n",
      "Epoch [180/500], Train Loss: 27.6264, Test Loss: 21.5830, Test MAE: 3.8191\n",
      "Epoch [190/500], Train Loss: 22.5985, Test Loss: 16.8908, Test MAE: 3.4193\n",
      "Epoch [200/500], Train Loss: 18.8773, Test Loss: 13.6807, Test MAE: 3.0795\n",
      "Epoch [210/500], Train Loss: 15.8763, Test Loss: 11.3830, Test MAE: 2.7772\n",
      "Epoch [220/500], Train Loss: 13.4582, Test Loss: 9.6426, Test MAE: 2.4932\n",
      "Epoch [230/500], Train Loss: 11.7090, Test Loss: 8.4007, Test MAE: 2.2638\n",
      "Epoch [240/500], Train Loss: 10.4479, Test Loss: 7.6531, Test MAE: 2.0775\n",
      "Epoch [250/500], Train Loss: 9.6055, Test Loss: 7.2201, Test MAE: 1.9654\n",
      "Epoch [260/500], Train Loss: 9.0578, Test Loss: 6.8802, Test MAE: 1.8863\n",
      "Epoch [270/500], Train Loss: 8.6693, Test Loss: 6.6558, Test MAE: 1.8394\n",
      "Epoch [280/500], Train Loss: 8.3834, Test Loss: 6.5192, Test MAE: 1.8473\n",
      "Epoch [290/500], Train Loss: 8.2220, Test Loss: 6.4053, Test MAE: 1.8054\n",
      "Epoch [300/500], Train Loss: 8.0426, Test Loss: 6.2915, Test MAE: 1.8004\n",
      "Epoch [310/500], Train Loss: 7.8855, Test Loss: 6.2213, Test MAE: 1.8178\n",
      "Epoch [320/500], Train Loss: 7.7864, Test Loss: 6.1183, Test MAE: 1.7833\n",
      "Epoch [330/500], Train Loss: 7.6902, Test Loss: 6.0647, Test MAE: 1.7804\n",
      "Epoch [340/500], Train Loss: 7.5858, Test Loss: 5.9832, Test MAE: 1.7729\n",
      "Epoch [350/500], Train Loss: 7.4987, Test Loss: 5.9163, Test MAE: 1.7694\n",
      "Epoch [360/500], Train Loss: 7.4499, Test Loss: 5.8885, Test MAE: 1.7683\n",
      "Epoch [370/500], Train Loss: 7.3939, Test Loss: 5.8184, Test MAE: 1.7346\n",
      "Epoch [380/500], Train Loss: 7.2859, Test Loss: 5.8031, Test MAE: 1.7467\n",
      "Epoch [390/500], Train Loss: 7.2096, Test Loss: 5.7485, Test MAE: 1.7423\n",
      "Epoch [400/500], Train Loss: 7.1491, Test Loss: 5.6731, Test MAE: 1.7297\n",
      "Epoch [410/500], Train Loss: 7.1115, Test Loss: 5.6470, Test MAE: 1.7306\n",
      "Epoch [420/500], Train Loss: 7.0642, Test Loss: 5.5475, Test MAE: 1.7026\n",
      "Epoch [430/500], Train Loss: 6.9994, Test Loss: 5.5410, Test MAE: 1.7119\n",
      "Epoch [440/500], Train Loss: 6.9341, Test Loss: 5.4782, Test MAE: 1.7030\n",
      "Epoch [450/500], Train Loss: 6.8753, Test Loss: 5.4428, Test MAE: 1.7066\n",
      "Epoch [460/500], Train Loss: 6.8213, Test Loss: 5.4053, Test MAE: 1.7090\n",
      "Epoch [470/500], Train Loss: 6.7795, Test Loss: 5.3462, Test MAE: 1.7011\n",
      "Epoch [480/500], Train Loss: 6.7510, Test Loss: 5.3785, Test MAE: 1.7064\n",
      "Epoch [490/500], Train Loss: 6.6971, Test Loss: 5.2924, Test MAE: 1.6926\n",
      "Epoch [500/500], Train Loss: 6.6336, Test Loss: 5.2875, Test MAE: 1.6947\n"
     ]
    }
   ],
   "source": [
    "history = {'train_loss': [], 'train_mae': [], 'test_loss': [], 'test_mae': []}\n",
    "\n",
    "# 将数据转为Tensor\n",
    "X_train = Tensor(normed_train_data.values, ms.float32)\n",
    "Y_train = Tensor(train_labels.values.reshape(-1, 1), ms.float32)\n",
    "X_test = Tensor(normed_test_data.values, ms.float32)\n",
    "Y_test = Tensor(test_labels.values.reshape(-1, 1), ms.float32)\n",
    "\n",
    "mae_metric = MAE()\n",
    "\n",
    "for epoch in range(epochs):\n",
    "    # 首先，通过包装好的loss_net计算损失值\n",
    "    loss = loss_net(X_train, Y_train)\n",
    "    # 然后，计算loss_net关于权重的梯度\n",
    "    grads = grad_fn(loss_net, optimizer.parameters)(X_train, Y_train)\n",
    "    # 使用优化器更新权重\n",
    "    optimizer(grads)\n",
    "\n",
    "    # 记录训练集指标\n",
    "    mae_metric.clear()\n",
    "    mae_metric.update(network(X_train), Y_train)\n",
    "    train_mae = mae_metric.eval()\n",
    "    \n",
    "    history['train_loss'].append(loss.asnumpy())\n",
    "    history['train_mae'].append(train_mae)\n",
    "\n",
    "    # 评估测试集\n",
    "    test_predictions = network(X_test)\n",
    "    test_loss = loss_fn(test_predictions, Y_test)\n",
    "    \n",
    "    mae_metric.clear()\n",
    "    mae_metric.update(test_predictions, Y_test)\n",
    "    test_mae = mae_metric.eval()\n",
    "\n",
    "    history['test_loss'].append(test_loss.asnumpy())\n",
    "    history['test_mae'].append(test_mae)\n",
    "\n",
    "    if (epoch + 1) % 10 == 0:\n",
    "        print(f\"Epoch [{epoch+1}/{epochs}], Train Loss: {loss.asnumpy():.4f}, Test Loss: {test_loss.asnumpy():.4f}, Test MAE: {test_mae:.4f}\")"
   ]
  },
  {
   "cell_type": "markdown",
   "metadata": {},
   "source": [
    "### 4.4 可视化训练过程"
   ]
  },
  {
   "cell_type": "code",
   "execution_count": 13,
   "metadata": {},
   "outputs": [
    {
     "data": {
      "image/png": "[encoded data removed]",
      "text/plain": [
       "<Figure size 864x360 with 2 Axes>"
      ]
     },
     "metadata": {
      "needs_background": "light"
     },
     "output_type": "display_data"
    }
   ],
   "source": [
    "def plot_history(history):\n",
    "    plt.figure(figsize=(12, 5))\n",
    "\n",
    "    plt.subplot(1, 2, 1)\n",
    "    plt.xlabel('Epoch')\n",
    "    plt.ylabel('Mean Abs Error [MPG]')\n",
    "    plt.plot(history['train_mae'], label='Train Error')\n",
    "    plt.plot(history['test_mae'], label = 'Val Error')\n",
    "    plt.ylim([0, 5])\n",
    "    plt.legend()\n",
    "\n",
    "    plt.subplot(1, 2, 2)\n",
    "    plt.xlabel('Epoch')\n",
    "    plt.ylabel('Mean Square Error [$MPG^2$]')\n",
    "    plt.plot(history['train_loss'], label='Train Error')\n",
    "    plt.plot(history['test_loss'], label='Val Error')\n",
    "    plt.ylim([0, 25])\n",
    "    plt.legend()\n",
    "    plt.show()\n",
    "\n",
    "plot_history(history)"
   ]
  },
  {
   "cell_type": "markdown",
   "metadata": {},
   "source": [
    "### 4.5 可视化预测结果"
   ]
  },
  {
   "cell_type": "code",
   "execution_count": 14,
   "metadata": {},
   "outputs": [
    {
     "data": {
      "image/png": "[encoded data removed]",
      "text/plain": [
       "<Figure size 576x576 with 1 Axes>"
      ]
     },
     "metadata": {
      "needs_background": "light"
     },
     "output_type": "display_data"
    }
   ],
   "source": [
    "test_predictions = network(X_test).asnumpy()\n",
    "\n",
    "plt.figure(figsize=(8, 8))\n",
    "plt.scatter(test_labels, test_predictions)\n",
    "plt.xlabel('True Values [MPG]')\n",
    "plt.ylabel('Predictions [MPG]')\n",
    "plt.axis('equal')\n",
    "plt.axis('square')\n",
    "plt.xlim([0,plt.xlim()[1]])\n",
    "plt.ylim([0,plt.ylim()[1]])\n",
    "_ = plt.plot([-100, 100], [-100, 100])\n",
    "plt.show()"
   ]
  },
  {
   "cell_type": "markdown",
   "metadata": {},
   "source": [
    "## 5. 实验总结\n",
    "\n",
    " 通过本次实验，我成功地使用MindSpore构建了一个前馈神经网络来解决汽车里程数的回归预测问题。\n",
    " 从训练过程的MAE和MSE曲线可以看出，模型在大约20个epoch后迅速收敛，并且在训练集和验证集上的误差都保持在较低水平，没有出现明显的过拟合。\n",
    " 最终的预测值与真实值散点图也显示，大部分点都紧密地分布在对角线附近，说明模型具有较好的预测精度。\n",
    " 我深刻体会到了数据预处理（特别是归一化）对模型训练的重要性，以及如何为回归任务选择合适的网络结构、损失函数和评估指标。"
   ]
  }
 ],
 "metadata": {
  "kernelspec": {
   "display_name": "MindSpore",
   "language": "python",
   "name": "mindspore"
  },
  "language_info": {
   "codemirror_mode": {
    "name": "ipython",
    "version": 3
   },
   "file_extension": ".py",
   "mimetype": "text/x-python",
   "name": "python",
   "nbconvert_exporter": "python",
   "pygments_lexer": "ipython3",
   "version": "3.7.6"
  }
 },
 "nbformat": 4,
 "nbformat_minor": 4
}
