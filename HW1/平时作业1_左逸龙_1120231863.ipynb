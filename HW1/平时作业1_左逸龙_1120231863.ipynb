{
 "cells": [
  {
   "cell_type": "markdown",
   "metadata": {
    "id": "7g0MDKYayx-3"
   },
   "source": [
    "# softmax回归的从零开始实现\n",
    "softmax回归是分类问题重要的基础，因此(应当掌握实现softmax回归的细节)。\n",
    "本节将使用Fashion-MNIST数据集， 并设置数据迭代器的批量大小为256。\n",
    "Fashion-MNIST数据集包含60000张训练图像和对应Label； 10000张测试图像和对应Label； 10个类别； 每张图像$28\\times28$的分辨率\n",
    "\n",
    "Label Description:\n",
    "0 T恤（T-shirt/top）\n",
    "1 裤子（Trouser）\n",
    "2 套头衫（Pullover）\n",
    "3 连衣裙（Dress）\n",
    "4 外套（Coat）\n",
    "5 凉鞋（Sandal）\n",
    "6 衬衫（Shirt）\n",
    "7 运动鞋（Sneaker）\n",
    "8 包（Bag）\n",
    "9 靴子（Ankle boot）"
   ]
  },
  {
   "cell_type": "markdown",
   "metadata": {
    "id": "0OqeLZqWy40S"
   },
   "source": [
    "# 1. 下载Fashion-MNIST数据集\n"
   ]
  },
  {
   "cell_type": "markdown",
   "metadata": {},
   "source": [
    "# 2. 初始化模型参数\n",
    "\n",
    "和线性回归一样，每个样本都将用固定长度的向量表示。\n",
    "原始数据集中的每个图像样本的尺寸都是$28\\times28$。**展平每个图像，把每个样本看作长度为784**（=$28\\times28$）的向量。本例中，把每个像素看作一个特征。\n",
    "在softmax回归中，网络的输出维度与任务类别一样多。(**数据集有10个类别，所以网络输出维度为10**)。因\n",
    "此，将权重$\\mathbf{w}$ 构造成一个$784\\times10$的矩阵， 偏置$\\mathbf{b}$将构成一个$1\\times10$的行向量。 与线性回归一样，使用正\n",
    "态分布初始化权重$\\mathbf{w}$，偏置$\\mathbf{b}$初始化为0。"
   ]
  },
  {
   "cell_type": "code",
   "execution_count": 535,
   "metadata": {
    "id": "9n0sW2nvz6Z7"
   },
   "outputs": [
    {
     "data": {
      "text/plain": [
       "tensor([0., 0., 0., 0., 0., 0., 0., 0., 0., 0.], device='cuda:0',\n",
       "       requires_grad=True)"
      ]
     },
     "execution_count": 535,
     "metadata": {},
     "output_type": "execute_result"
    }
   ],
   "source": [
    "import torch\n",
    "import torchvision\n",
    "import torchvision.transforms as transforms\n",
    "from torch.utils.data import DataLoader\n",
    "import matplotlib.pyplot as plt\n",
    "from IPython import display\n",
    "\n",
    "# Set the device to GPU if available, otherwise use CPU\n",
    "device = torch.device('cuda' if torch.cuda.is_available() else 'cpu')\n",
    "\n",
    "# Define the transformations to be applied to the data\n",
    "transform = transforms.Compose(\n",
    "    [transforms.ToTensor(),\n",
    "     transforms.Normalize((0.5,), (0.5,))]\n",
    "    )\n",
    "\n",
    "# Download the training and testing datasets\n",
    "trainset = torchvision.datasets.FashionMNIST(root='./data', train=True, download=True, transform=transform)\n",
    "testset = torchvision.datasets.FashionMNIST(root='./data', train=False, download=True, transform=transform)\n",
    "\n",
    "# Create data loaders for the training and testing datasets\n",
    "batch_size = 256  # You can adjust the batch size as needed\n",
    "train_iter = DataLoader(trainset, batch_size=batch_size, shuffle=True)\n",
    "test_iter = DataLoader(testset, batch_size=batch_size, shuffle=False)\n",
    "\n",
    "# Now you can use train_iter and test_iter to access the data\n",
    "X = torch.tensor([[1.0, 2.0, 3.0], [4.0, 5.0, 6.0]])\n",
    "X.sum(0, keepdim=True), X.sum(1, keepdim=True)\n",
    "\n",
    "# Initialize W and b with appropriate shapes and values\n",
    "num_inputs = 784  # 28 x 28 pixels in Fashion-MNIST images\n",
    "num_outputs = 10  # 10 classes in Fashion-MNIST\n",
    "# W = torch.normal(0, 0.01, size=(num_inputs, num_outputs), requires_grad=True)\n",
    "# b = torch.zeros(num_outputs, requires_grad=True)\n",
    "W = torch.normal(0, 0.01, size=(num_inputs, num_outputs)).to(device)\n",
    "b = torch.zeros(num_outputs).to(device)\n",
    "W.requires_grad_(True)\n",
    "b.requires_grad_(True)"
   ]
  },
  {
   "cell_type": "markdown",
   "metadata": {
    "id": "FftOCQCpBQ7Y"
   },
   "source": [
    "# 3. 定义softmax操作\n",
    "sum 运算符如何沿着张量中的特定维度工作?\n",
    "1. 给定一个矩阵 $\\mathbf{X}$，可以对它的所有元素求和（默认情况下）。\n",
    "2. 也可以只求同一个轴上的元素，即同一列（轴0）或同一行（轴1）。\n",
    "如果 $\\mathbf{w}$是一个形状为 (2, 3) 的张量，对列进行求和， 则结果将是一个具有形状 (3,) 的向量。（注意：消失了一个轴）\n",
    "当调用 sum 运算符时，可以指定保持张量的轴数，而不折叠求和的维度。 这将产生一个具有形状 (1, 3) 的二维张量。\n",
    "实现softmax的三个步骤：\n",
    "1. 对每个项求幂（使用 exp ）；\n",
    "2. 对每一行求和（小批量中每个样本是一行），得到每个样本的规范化常数；\n",
    "3. 将每一行除以其规范化常数，确保结果的和为1。\n",
    "回顾表达式：\n",
    "\\begin{align}\n",
    "softmax(\\mathbf{X})_{i j}=\\frac{\\exp \\left(\\mathbf{X}_{i j}\\right)}{\\sum_{k} \\exp \\left(\\mathbf{X}_{i k}\\right)}\n",
    "\\end{align}"
   ]
  },
  {
   "cell_type": "code",
   "execution_count": 536,
   "metadata": {
    "id": "UmwkYbku0H6-"
   },
   "outputs": [],
   "source": [
    "def softmax(X):\n",
    " X_exp = torch.exp(X)\n",
    " partition = X_exp.sum(1, keepdim=True)\n",
    "# print('partition shape:', partition.shape)\n",
    " return X_exp / partition # 这里应用了广播机制"
   ]
  },
  {
   "cell_type": "markdown",
   "metadata": {
    "id": "877s2FjMDh_b"
   },
   "source": [
    "对于任何随机输入 $\\mathbf{X}$ ， softmax( ) 将每个元素变成一个非负数。 依据概率原理，每行总和为1。"
   ]
  },
  {
   "cell_type": "code",
   "execution_count": 537,
   "metadata": {
    "colab": {
     "base_uri": "https://localhost:8080/"
    },
    "id": "b9sPh2GU0L4S",
    "outputId": "4703fdf1-183f-4850-ca6c-14cca7405662"
   },
   "outputs": [
    {
     "data": {
      "text/plain": [
       "(tensor([[ 0.9783,  0.1418, -0.5257, -1.2271, -0.0243],\n",
       "         [ 0.7870, -0.5553, -0.3650,  0.8736,  0.8897]]),\n",
       " tensor([[0.4689, 0.2031, 0.1042, 0.0517, 0.1721],\n",
       "         [0.2648, 0.0692, 0.0837, 0.2888, 0.2935]]),\n",
       " tensor([1., 1.]))"
      ]
     },
     "execution_count": 537,
     "metadata": {},
     "output_type": "execute_result"
    }
   ],
   "source": [
    "X = torch.normal(0, 1, (2, 5))\n",
    "X_prob = softmax(X)\n",
    "X, X_prob, X_prob.sum(1)"
   ]
  },
  {
   "cell_type": "markdown",
   "metadata": {
    "id": "KVKy0JC5Dtwq"
   },
   "source": [
    "注意，虽然这在数学上看起来是正确的，但我们在代码实现中有点草率。 矩阵中的非常大或非常小的元素在\n",
    "softmax() 的指数运算中，可能造成数值上溢或下溢，但本例中没有采取措施来防止这点。\n",
    "\n",
    "# 4. 定义模型\n",
    "实现softmax回归模型。 下面的代码定义了，根据输入，如何将其通过网络映射到输出。\n",
    "注意，将数据传递到模型之前，先使用 reshape 函数将每张原始图像展平为向量。例如，将$28\\times28$ 的向量\n",
    "展平为784。"
   ]
  },
  {
   "cell_type": "code",
   "execution_count": 538,
   "metadata": {
    "id": "RUlS7_Ab0Qhn"
   },
   "outputs": [],
   "source": [
    "def net(X):\n",
    " return softmax(torch.matmul(X.reshape((-1, W.shape[0])), W) + b)"
   ]
  },
  {
   "cell_type": "markdown",
   "metadata": {
    "id": "4aPPgVruEAge"
   },
   "source": [
    "# 5. 定义损失函数\n",
    "实现交叉熵（Cross-Entrophy）损失函数，简称**CE Loss**。 它是深度学习中最常见的损失函数。\n",
    "\n",
    "交叉熵采用真实标签的预测概率的负对数似然。 不要使用for循环来实现其中的迭代计算（低效）， 而是通过\n",
    "矩阵级运算提高计算效率。\n",
    "\n",
    "**创建数据样本的估计值 y_hat** ，它包含2个样本在3个类别的预测概率， 以及它们对应的标签 y 。 假设第一\n",
    "个样本中，第一类是正确的预测； 而在第二个样本中，第三类是正确的预测。 **使用 y 作为 y_hat 中概率的索引**, 选择第一个样本中第一个类的概率，和第二个样本中第三个类的概率。"
   ]
  },
  {
   "cell_type": "code",
   "execution_count": 539,
   "metadata": {
    "colab": {
     "base_uri": "https://localhost:8080/"
    },
    "id": "HH6-sS9l0UU8",
    "outputId": "5ebbfb53-5833-49b0-f971-b28cb89f6b9b"
   },
   "outputs": [
    {
     "data": {
      "text/plain": [
       "(tensor([0.1000, 0.5000]), tensor([0.1000, 0.6000]), tensor([0.3000, 0.6000]))"
      ]
     },
     "execution_count": 539,
     "metadata": {},
     "output_type": "execute_result"
    }
   ],
   "source": [
    "#第一个样本的正确类别为0，第二个样本的正确类别为2\n",
    "y = torch.tensor([0, 2])\n",
    "#第一个样本的关于三个类别的预测概率为[[0.1, 0.3, 0.6]，第二个样本为[0.3, 0.2, 0.5]]\n",
    "y_hat = torch.tensor([[0.1, 0.3, 0.6], [0.3, 0.2, 0.5]])\n",
    "#y_hat[[0, 1], y]为两个样本对于各自正确类别的预测概率，注意索引方式\n",
    "y_hat[[0, 1], y],y_hat[[0, 0], y],y_hat[[1, 0], y]"
   ]
  },
  {
   "cell_type": "markdown",
   "metadata": {
    "id": "ONhBLR66Ev5y"
   },
   "source": [
    "只需一行代码就可以实现交叉熵损失函数。\n",
    "\\begin{align}\n",
    "\\mathcal{L}_{CE}(y, \\hat{y}) = -\\sum_{i = 1}^{n}(y_i \\log (\\hat{y}_i))\\\\\n",
    "\\mathcal{L}_{CE}(y, \\hat{y}) = -\\log (\\hat{y}_y)\n",
    "\\end{align}"
   ]
  },
  {
   "cell_type": "markdown",
   "metadata": {
    "id": "REDmpqUvFeO2"
   },
   "source": [
    "# 6. 求分类精度\n",
    "给定预测概率分布 y_hat ，线性网络必须输出硬预测（hard prediction）， 通常选择预测概率最高的类作为\n",
    "网络的输出。 例如：电子邮件中将邮件分类为“Primary（主要邮件）”、 “Social（社交邮件）”、“Updates（更\n",
    "新邮件）”或“Forums（论坛邮件）”。 邮箱软件做分类时可能在内部估计概率，但最终它必须在类中选择一\n",
    "个。\n",
    "当预测结果与标签分类 y 一致时，即是正确的。 分类精度即正确预测数量与总预测数量之比。 直接对精度进\n",
    "行优化很困难（因为精度的计算不可导）， 但精度通常是我们最关心的性能衡量标准，在训练分类器时几乎总\n",
    "会关注它。\n",
    "为了计算精度，执行以下操作。\n",
    "1. 如果 y_hat 是二维矩阵，假定第一个维度对应每个样本，第二个维度存储每个类的预测分数。 使用\n",
    "argmax 获得每行（第二个维度）中最大值元素的索引，以此作为预测类别。\n",
    "2. 将预测类别与真实类别 y 的各元素进行比较。 由于等式运算符“ == ”对数据类型很敏感， 因此我们将\n",
    "y_hat 的数据类型转换为与 y 的数据类型一致。 结果是一个包含0（错）和1（对）的张量。\n",
    "3. 最后，求和会得到正确预测的数量。"
   ]
  },
  {
   "cell_type": "code",
   "execution_count": 540,
   "metadata": {
    "colab": {
     "base_uri": "https://localhost:8080/"
    },
    "id": "Vna3oHIZ0XRl",
    "outputId": "9c28cc7d-fdf6-488a-8959-07049b746dbb"
   },
   "outputs": [
    {
     "data": {
      "text/plain": [
       "tensor([2.3026, 0.6931])"
      ]
     },
     "execution_count": 540,
     "metadata": {},
     "output_type": "execute_result"
    }
   ],
   "source": [
    "def cross_entropy(y_hat, y):\n",
    " #计算每个样本在正确类别上的预测概率，并求log\n",
    " return - torch.log(y_hat[range(len(y_hat)), y])\n",
    "cross_entropy(y_hat, y)"
   ]
  },
  {
   "cell_type": "code",
   "execution_count": 541,
   "metadata": {
    "colab": {
     "base_uri": "https://localhost:8080/"
    },
    "id": "zN84hkGh0aoC",
    "outputId": "10363741-2f17-4453-f9c3-214fb3c13359"
   },
   "outputs": [],
   "source": [
    "def accuracy(y_hat, y): #save\n",
    " \"\"\"计算预测正确的数量\"\"\"\n",
    "# print(\"y_hat的轴数量:\",len(y_hat.shape),\" y_hat类别数量:\", y_hat.shape[1])\n",
    " if len(y_hat.shape) > 1 and y_hat.shape[1] > 1:\n",
    "  y_hat = y_hat.argmax(axis=1)\n",
    " cmp = y_hat.type(y.dtype) == y\n",
    " return float(cmp.type(y.dtype).sum())"
   ]
  },
  {
   "cell_type": "markdown",
   "metadata": {
    "id": "OBPa7R3oFkJH"
   },
   "source": [
    "我们将继续使用之前定义的变量 y_hat 和 y 分别作为预测的概率分布和标签。 可以看到，第一个样本的预测\n",
    "类别是2（该行的最大元素为0.6，索引为2），这与实际标签0不一致。 第二个样本的预测类别是2（该行的最\n",
    "大元素为0.5，索引为2），这与实际标签2一致。 因此，这两个样本的分类精度率为0.5。"
   ]
  },
  {
   "cell_type": "code",
   "execution_count": 542,
   "metadata": {
    "id": "4uhvWNB2F7Xq"
   },
   "outputs": [
    {
     "name": "stdout",
     "output_type": "stream",
     "text": [
      "tensor([[0.1000, 0.3000, 0.6000],\n",
      "        [0.3000, 0.2000, 0.5000]]) tensor([0, 2])\n"
     ]
    },
    {
     "data": {
      "text/plain": [
       "0.5"
      ]
     },
     "execution_count": 542,
     "metadata": {},
     "output_type": "execute_result"
    }
   ],
   "source": [
    "print(y_hat, y)\n",
    "accuracy(y_hat, y) / len(y)"
   ]
  },
  {
   "cell_type": "markdown",
   "metadata": {
    "id": "NnQGk2wuF_1F"
   },
   "source": [
    "同样，对于任意数据迭代器 data_iter 可访问的数据集， 可以评估在任意模型 net 的精度。"
   ]
  },
  {
   "cell_type": "code",
   "execution_count": 543,
   "metadata": {
    "id": "vP4_hqAk0qm-"
   },
   "outputs": [],
   "source": [
    "def evaluate_accuracy(net, data_iter): #save\n",
    " \"\"\"计算在指定数据集上模型的精度\"\"\"\n",
    " if isinstance(net, torch.nn.Module):\n",
    "  net.eval() # 将模型设置为评估模式\n",
    " metric = Accumulator(2) # 正确预测数、预测总数\n",
    " with torch.no_grad():\n",
    "  for X, y in data_iter:\n",
    "   X, y = X.to(device), y.to(device)  # 将数据移到GPU上\n",
    "   metric.add(accuracy(net(X), y), y.numel())\n",
    " return metric[0] / metric[1]"
   ]
  },
  {
   "cell_type": "markdown",
   "metadata": {
    "id": "rRlDPF_9GDdq"
   },
   "source": [
    "这里定义一个实用程序类 Accumulator ，用于对多个变量进行累加。 在上面的 evaluate_accuracy 函数\n",
    "中， 我们在( Accumulator 实例中创建了2个变量， 分别用于存储正确预测的数量和预测的总数量)。 当我们\n",
    "遍历数据集时，两者都将随着时间的推移而累加。"
   ]
  },
  {
   "cell_type": "code",
   "execution_count": 544,
   "metadata": {
    "id": "V5_m2BVf03Eu"
   },
   "outputs": [],
   "source": [
    "class Accumulator: #save\n",
    " \"\"\"在n个变量上累加\"\"\"\n",
    " def __init__(self, n):\n",
    "  self.data = [0.0] * n\n",
    " def add(self, *args):\n",
    "  self.data = [a + float(b) for a, b in zip(self.data, args)]\n",
    " def reset(self):\n",
    "  self.data = [0.0] * len(self.data)\n",
    " def __getitem__(self, idx):\n",
    "  return self.data[idx]"
   ]
  },
  {
   "cell_type": "markdown",
   "metadata": {
    "id": "9ZEGgCdSGHsG"
   },
   "source": [
    "由于我们使用随机权重初始化 net 模型， 因此该模型的精度应接近于随机猜测。 例如在有10个类别情况下的\n",
    "精度为0.1。"
   ]
  },
  {
   "cell_type": "code",
   "execution_count": 545,
   "metadata": {
    "colab": {
     "base_uri": "https://localhost:8080/"
    },
    "id": "frPSl0pF0-Gh",
    "outputId": "8cbaa65e-149b-4fb3-a51a-fd1adea1dbd2"
   },
   "outputs": [
    {
     "data": {
      "text/plain": [
       "0.121"
      ]
     },
     "execution_count": 545,
     "metadata": {},
     "output_type": "execute_result"
    }
   ],
   "source": [
    "evaluate_accuracy(net, test_iter)"
   ]
  },
  {
   "cell_type": "markdown",
   "metadata": {
    "id": "zb0o_XYZGLYo"
   },
   "source": [
    "# 7. 训练\n",
    "[softmax回归的训练] 过程代码和线性回归非常相似。 在这里，重构训练过程的实现以使其可重复使用。 首\n",
    "先，定义一个函数来训练一个迭代周期。 请注意， updater 是更新模型参数的常用函数，它接受批量大小作\n",
    "为参数。 它可以是 sgd 函数，也可以是框架的内置优化函数。"
   ]
  },
  {
   "cell_type": "code",
   "execution_count": 546,
   "metadata": {
    "id": "jJ6xELvG10oB"
   },
   "outputs": [],
   "source": [
    "def train_epoch_ch3(net, train_iter, loss, updater): #save\n",
    " \"\"\"训练模型一个迭代周期\"\"\"\n",
    " # 将模型设置为训练模式\n",
    " if isinstance(net, torch.nn.Module):\n",
    "  net.train()\n",
    " # 训练损失总和、训练准确度总和、样本数\n",
    " metric = Accumulator(3)\n",
    " for X, y in train_iter:\n",
    "  # 将数据移到GPU上\n",
    "  X, y = X.to(device), y.to(device)\n",
    "  # 计算梯度并更新参数\n",
    "  y_hat = net(X)\n",
    "  l = loss(y_hat, y)\n",
    "  if isinstance(updater, torch.optim.Optimizer):\n",
    "  # 使用PyTorch内置的优化器和损失函数\n",
    "   updater.zero_grad()\n",
    "   l.mean().backward()\n",
    "   updater.step()\n",
    "  else:\n",
    "  # 使用定制的优化器和损失函数\n",
    "   l.sum().backward()\n",
    "   updater(X.shape[0])\n",
    "  metric.add(float(l.sum()), accuracy(y_hat, y), y.numel())\n",
    " # 返回训练损失和训练精度\n",
    " return metric[0] / metric[2], metric[1] / metric[2]"
   ]
  },
  {
   "cell_type": "markdown",
   "metadata": {
    "id": "snacggbgGa5-"
   },
   "source": [
    "在展示训练函数的实现之前，定义一个在动画中绘制数据的实用程序类 Animator ， 它能够简化部分代码"
   ]
  },
  {
   "cell_type": "code",
   "execution_count": 547,
   "metadata": {
    "id": "fRvdw56e2Gsj"
   },
   "outputs": [],
   "source": [
    "def set_axes(axes, xlabel, ylabel, xlim, ylim, xscale, yscale, legend):\n",
    "     \"\"\"A placeholder implementation of set_axes.\"\"\"\n",
    "     axes.set_xlabel(xlabel)\n",
    "     axes.set_ylabel(ylabel)\n",
    "     axes.set_xscale(xscale)\n",
    "     axes.set_yscale(yscale)\n",
    "     axes.set_xlim(xlim)\n",
    "     axes.set_ylim(ylim)\n",
    "     axes.legend(legend)\n",
    "\n",
    "class Animator: #save\n",
    " \"\"\"在动画中绘制数据\"\"\"\n",
    " def __init__(self, xlabel=None, ylabel=None, legend=None, xlim=None,\n",
    "        ylim=None, xscale='linear', yscale='linear',\n",
    "        fmts=('-', 'm--', 'g-.', 'r:'), nrows=1, ncols=1,\n",
    "        figsize=(3.5, 2.5)):\n",
    "  # 增量地绘制多条线\n",
    "  if legend is None:\n",
    "   legend = []\n",
    "  #d2l.use_svg_display() #Commented out as it's specific to d2l\n",
    "  self.fig, self.axes = plt.subplots(nrows, ncols, figsize=figsize) #Replaced d2l.plt with plt\n",
    "  if nrows * ncols == 1:\n",
    "   self.axes = [self.axes, ]\n",
    "  # 使用lambda函数捕获参数\n",
    "  self.config_axes = lambda: set_axes( #Replaced d2l.set_axes with set_axes\n",
    "   self.axes[0], xlabel, ylabel, xlim, ylim, xscale, yscale, legend)\n",
    "  self.X, self.Y, self.fmts = None, None, fmts\n",
    " def add(self, x, y):\n",
    "  # 向图表中添加多个数据点\n",
    "  if not hasattr(y, \"__len__\"):\n",
    "   y = [y]\n",
    "  n = len(y)\n",
    "  if not hasattr(x, \"__len__\"):\n",
    "   x = [x] * n\n",
    "  if not self.X:\n",
    "   self.X = [[] for _ in range(n)]\n",
    "  if not self.Y:\n",
    "   self.Y = [[] for _ in range(n)]\n",
    "  for i, (a, b) in enumerate(zip(x, y)):\n",
    "   if a is not None and b is not None:\n",
    "    self.X[i].append(a)\n",
    "    self.Y[i].append(b)\n",
    "  self.axes[0].cla()\n",
    "  for x, y, fmt in zip(self.X, self.Y, self.fmts):\n",
    "   self.axes[0].plot(x, y, fmt)\n",
    "  self.config_axes()\n",
    "  display.display(self.fig)\n",
    "  display.clear_output(wait=True)"
   ]
  },
  {
   "cell_type": "markdown",
   "metadata": {
    "id": "MdHlutpMGf7o"
   },
   "source": [
    "接下来实现一个训练函数， 它会在 train_iter 访问到的训练数据集上训练一个模型 net 。 该训练函数将会\n",
    "运行多个迭代周期（由 num_epochs 指定）。 在每个迭代周期结束时，利用 test_iter 访问到的测试数据集\n",
    "对模型进行评估。 利用 Animator 类来可视化训练进度。"
   ]
  },
  {
   "cell_type": "code",
   "execution_count": 548,
   "metadata": {
    "id": "-8ikdAyF25gv"
   },
   "outputs": [],
   "source": [
    "def train_ch3(net, train_iter, test_iter, loss, num_epochs, updater): #save\n",
    " \"\"\"训练模型\"\"\"\n",
    " animator = Animator(xlabel='epoch', xlim=[1, num_epochs], ylim=[0.3, 0.9],\n",
    " legend=['train loss', 'train acc', 'test acc'])\n",
    " for epoch in range(num_epochs):\n",
    "  train_metrics = train_epoch_ch3(net, train_iter, loss, updater)\n",
    "  test_acc = evaluate_accuracy(net, test_iter)\n",
    "  animator.add(epoch + 1, train_metrics + (test_acc,))\n",
    " train_loss, train_acc = train_metrics\n",
    " assert train_loss < 0.5, train_loss\n",
    " assert train_acc <= 1 and train_acc > 0.7, train_acc\n",
    " assert test_acc <= 1 and test_acc > 0.7, test_acc"
   ]
  },
  {
   "cell_type": "markdown",
   "metadata": {
    "id": "48o-DYAGGjnR"
   },
   "source": [
    "作为一个从零开始的实现，使用小批量随机梯度下降来优化模型的损失函数，设置学习率为0.1。"
   ]
  },
  {
   "cell_type": "markdown",
   "metadata": {},
   "source": [
    "## 以下为个人实现的SGD函数"
   ]
  },
  {
   "cell_type": "code",
   "execution_count": null,
   "metadata": {
    "id": "GGLQ6_SQ3GFO"
   },
   "outputs": [],
   "source": [
    "import math\n",
    "\n",
    "def sgd(params, lr=0.01, momentum=0.1, weight_decay=1e-5, beta=0.1,\n",
    "                         epsilon=1e-8, T_max=400, eta_min=0.0001):\n",
    "    \"\"\"\n",
    "    融合多种优化技术的SGD实现\n",
    "    \n",
    "    参数:\n",
    "    params: 需要优化的参数列表\n",
    "    lr: 初始学习率(η₀)\n",
    "    momentum: 动量系数，控制历史梯度的影响程度\n",
    "    weight_decay: 权重衰减系数，用于L2正则化\n",
    "    beta: RMSProp的衰减率，控制历史梯度平方的影响\n",
    "    epsilon: 数值稳定性常数，防止除零错误\n",
    "    T_max: 余弦退火的周期长度(T)\n",
    "    eta_min: 最小学习率(η_T)，余弦退火的下限学习率\n",
    "    \n",
    "    返回:\n",
    "    updater: 参数更新函数\n",
    "    \"\"\"\n",
    "    # 初始化动量变量\n",
    "    v = [torch.zeros_like(param).to(param.device) for param in params]\n",
    "    \n",
    "    # 对于RMSProp，初始化梯度平方的移动平均\n",
    "    s = [torch.zeros_like(param).to(param.device) for param in params]\n",
    "    \n",
    "    # 使用列表存储迭代次数，便于在闭包中修改\n",
    "    iterations = [0]\n",
    "    \n",
    "    def updater(batch_size):\n",
    "        # 更新迭代计数\n",
    "        iterations[0] += 1\n",
    "        \n",
    "        # 学习率衰减: 随训练进行逐渐降低学习率\n",
    "        # 优势: 前期快速探索参数空间，后期精细调整参数以收敛到更好的局部最小值        \n",
    "            # 余弦退火学习率调度\n",
    "            # ------------------------------------\n",
    "            # 相比传统指数衰减的优势:\n",
    "            # 1. 训练初期缓慢降低学习率，允许模型充分探索参数空间\n",
    "            # 2. 训练中期加速降低学习率，促进快速收敛\n",
    "            # 3. 训练后期再次缓慢降低学习率，实现精细调优\n",
    "            # 4. 通常能获得更好的泛化性能和更低的最终损失\n",
    "            # ------------------------------------\n",
    "        t = iterations[0]\n",
    "        if t <= T_max:\n",
    "            # 实现余弦退火公式: η_t = η_min + (η₀-η_min)/2 * (1+cos(πt/T))\n",
    "            current_lr = eta_min + 0.5 * (lr - eta_min) * (1 + math.cos(math.pi * t / T_max))\n",
    "        else:\n",
    "            # 当t>T时，固定学习率为η_min\n",
    "            current_lr = eta_min\n",
    "        \n",
    "        for i, param in enumerate(params):\n",
    "            if param.grad is None:\n",
    "                continue\n",
    "                \n",
    "            # 权重衰减(L2正则化): 通过惩罚大权重值防止过拟合\n",
    "            # 优势: 鼓励模型学习更小的权重，提高泛化能力\n",
    "            grad = param.grad / batch_size + weight_decay * param.data\n",
    "            \n",
    "            # RMSProp: 自适应学习率方法\n",
    "            s[i] = beta * s[i] + (1 - beta) * grad.pow(2)\n",
    "            \n",
    "            # RMSProp优势: \n",
    "            # 1. 自适应调整每个参数的学习率\n",
    "            # 2. 对频繁变化的参数使用较小的步长，对不频繁变化的参数使用较大的步长\n",
    "            # 3. 能够有效处理稀疏梯度和非平稳目标\n",
    "            \n",
    "            # 动量更新，但步长由RMSProp和余弦退火共同调整\n",
    "            v[i] = momentum * v[i] - current_lr * grad / (torch.sqrt(s[i]) + epsilon)\n",
    "                \n",
    "            # 应用更新\n",
    "            param.data += v[i]\n",
    "            \n",
    "            # 清零梯度\n",
    "            param.grad.zero_()\n",
    "    \n",
    "    return updater"
   ]
  },
  {
   "cell_type": "markdown",
   "metadata": {},
   "source": [
    "## 以下为运行结果对比\n",
    "\n",
    "左侧为原来文件的运行结果，右侧为使用自己实现的SGD函数后的运行结果。可以看出在训练集与测试集上均有提升，同时缓解了过拟合现象。训练曲线平滑，鲁棒性更强。\n",
    "\n",
    "![Original_result](Original_result.png)\n",
    "![My_result](My_result.png)"
   ]
  },
  {
   "cell_type": "code",
   "execution_count": null,
   "metadata": {},
   "outputs": [],
   "source": [
    "lr = 0.005\n",
    "\n",
    "# updater = torch.optim.SGD([W, b], lr=lr)\n",
    "updater = sgd([W, b], lr = lr, T_max = trainset.__len__() // batch_size * 10 * 0.75, eta_min = 0.0001)"
   ]
  },
  {
   "cell_type": "markdown",
   "metadata": {
    "id": "ogmoW_gEGmga"
   },
   "source": [
    "现在，训练模型10个迭代周期。 迭代周期（ num_epochs ）和学习率（ lr ）都是可调节的超参数。 通过更\n",
    "改它们的值，可以提高模型的分类精度。"
   ]
  },
  {
   "cell_type": "code",
   "execution_count": 550,
   "metadata": {
    "colab": {
     "base_uri": "https://localhost:8080/",
     "height": 272
    },
    "id": "PU-rDXyW3Ixh",
    "outputId": "e3bc8c40-4261-4280-9eae-398606b803fc"
   },
   "outputs": [
    {
     "data": {
      "image/png": "[encoded data removed]",
      "text/plain": [
       "<Figure size 350x250 with 1 Axes>"
      ]
     },
     "metadata": {},
     "output_type": "display_data"
    }
   ],
   "source": [
    "num_epochs = 10\n",
    "train_ch3(net, train_iter, test_iter, cross_entropy, num_epochs, updater)"
   ]
  },
  {
   "cell_type": "markdown",
   "metadata": {
    "id": "qLrts-DgGpZJ"
   },
   "source": [
    "# 8. 预测\n",
    "现在训练已经完成，我们的模型已经准备好对图像进行分类预测。 给定一系列图像，比较它们的实际标签（文\n",
    "本输出的第一行）和模型预测（文本输出的第二行）。"
   ]
  },
  {
   "cell_type": "code",
   "execution_count": 551,
   "metadata": {
    "colab": {
     "base_uri": "https://localhost:8080/",
     "height": 395
    },
    "id": "KUTwShtl7niJ",
    "outputId": "2ec44ff6-a8d8-4077-d91b-7a015dbc76f3"
   },
   "outputs": [
    {
     "data": {
      "image/png": "[encoded data removed]",
      "text/plain": [
       "<Figure size 1200x400 with 16 Axes>"
      ]
     },
     "metadata": {},
     "output_type": "display_data"
    }
   ],
   "source": [
    "def get_fashion_mnist_labels(labels):\n",
    "  \"\"\"Return text labels for the Fashion-MNIST dataset.\"\"\"\n",
    "  text_labels = ['t-shirt', 'trouser', 'pullover', 'dress', 'coat',\n",
    "                  'sandal', 'shirt', 'sneaker', 'bag', 'ankle boot']\n",
    "  return [text_labels[int(i)] for i in labels]\n",
    "\n",
    "def predict_ch3(net, test_iter, n=16): #save\n",
    "  \"\"\"预测标签\"\"\"\n",
    "  for X, y in test_iter:\n",
    "    X, y = X.to(device), y.to(device)  # 将数据移到GPU上\n",
    "    break\n",
    "  trues = get_fashion_mnist_labels(y)\n",
    "  preds = get_fashion_mnist_labels(net(X).argmax(axis=1))\n",
    "  titles = [\"GT:\"+true +'\\n '+ pred for true, pred in zip(trues, preds)]\n",
    "\n",
    "  # --- Replacement for d2l.show_images ---\n",
    "  fig, axes = plt.subplots(2, n // 2, figsize=(12, 4))  # Adjust figsize as needed\n",
    "  for i in range(n):\n",
    "      row = i // (n // 2)\n",
    "      col = i % (n // 2)\n",
    "      # 显示前将数据移回CPU\n",
    "      axes[row, col].imshow(X[i].cpu().reshape(28, 28).numpy(), cmap='viridis')\n",
    "      axes[row, col].set_title(titles[i])\n",
    "      axes[row, col].axis(\"off\")  # Hide axes ticks and labels\n",
    "  plt.tight_layout() # Adjust layout for better spacing\n",
    "  plt.show()\n",
    "  # --- End of replacement ---\n",
    "\n",
    "predict_ch3(net, test_iter)"
   ]
  }
 ],
 "metadata": {
  "colab": {
   "provenance": []
  },
  "kernelspec": {
   "display_name": "GNN",
   "language": "python",
   "name": "python3"
  },
  "language_info": {
   "codemirror_mode": {
    "name": "ipython",
    "version": 3
   },
   "file_extension": ".py",
   "mimetype": "text/x-python",
   "name": "python",
   "nbconvert_exporter": "python",
   "pygments_lexer": "ipython3",
   "version": "3.12.8"
  }
 },
 "nbformat": 4,
 "nbformat_minor": 0
}
